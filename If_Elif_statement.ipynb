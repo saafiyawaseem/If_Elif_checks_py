{
  "nbformat": 4,
  "nbformat_minor": 0,
  "metadata": {
    "colab": {
      "provenance": [],
      "authorship_tag": "ABX9TyN2haFWYUxEgFTGU/yHCwqF",
      "include_colab_link": true
    },
    "kernelspec": {
      "name": "python3",
      "display_name": "Python 3"
    },
    "language_info": {
      "name": "python"
    }
  },
  "cells": [
    {
      "cell_type": "markdown",
      "metadata": {
        "id": "view-in-github",
        "colab_type": "text"
      },
      "source": [
        "<a href=\"https://colab.research.google.com/github/saafiyawaseem/If_Elif_checks_py/blob/main/If_Elif_statement.ipynb\" target=\"_parent\"><img src=\"https://colab.research.google.com/assets/colab-badge.svg\" alt=\"Open In Colab\"/></a>"
      ]
    },
    {
      "cell_type": "code",
      "execution_count": null,
      "metadata": {
        "colab": {
          "base_uri": "https://localhost:8080/"
        },
        "id": "mXTxD0-rFZE1",
        "outputId": "b0f32625-73e2-4e4a-8c83-656ff85af5ea"
      },
      "outputs": [
        {
          "output_type": "stream",
          "name": "stdout",
          "text": [
            "True\n",
            "<class 'bool'>\n"
          ]
        }
      ],
      "source": [
        "#Boolean\n",
        "is_raining = True  #boolean value\n",
        "is_learning = False\n",
        "print(is_raining) #output True\n",
        "print(type(is_learning)) # <class 'bool'\n"
      ]
    },
    {
      "cell_type": "code",
      "source": [
        "is_loadshadding =True\n",
        "is_internet_close = True\n",
        "is_shadowed = False\n",
        "print(is_loadshadding)\n",
        "print(type(is_internet_close))"
      ],
      "metadata": {
        "colab": {
          "base_uri": "https://localhost:8080/"
        },
        "id": "TBp7u67XL1Q8",
        "outputId": "8cf37336-3573-4723-c4a2-734386f6b697"
      },
      "execution_count": null,
      "outputs": [
        {
          "output_type": "stream",
          "name": "stdout",
          "text": [
            "True\n",
            "<class 'bool'>\n"
          ]
        }
      ]
    },
    {
      "cell_type": "code",
      "source": [
        "is_today_thursday =True\n",
        "print(\"today is my class\")\n",
        "is_today_wednesday = True\n",
        "\n",
        "print(\"today isn't my class\")"
      ],
      "metadata": {
        "colab": {
          "base_uri": "https://localhost:8080/"
        },
        "id": "FooUyC6fNFsJ",
        "outputId": "81635cc8-6b6d-4294-81c5-f1e922eb8cc5"
      },
      "execution_count": null,
      "outputs": [
        {
          "output_type": "stream",
          "name": "stdout",
          "text": [
            "today is my class\n",
            "today isn't my class\n"
          ]
        }
      ]
    },
    {
      "cell_type": "code",
      "source": [
        "#Comparision:\n",
        "#== equal to\n",
        "# != not equal\n",
        "# > Greater Than\n",
        "#< Less than\n",
        "# >= Greater than or equal to\n",
        "# <= Less than or equal to\n",
        "a=10\n",
        "b=20\n",
        "print(a == b) # false\n",
        "print(a != b) #true\n",
        "print(a > b) #false\n",
        "print(a < b) #\n",
        "print(a >= b)\n",
        "print(a<= b)\n"
      ],
      "metadata": {
        "colab": {
          "base_uri": "https://localhost:8080/"
        },
        "id": "OZM9nmavP8hX",
        "outputId": "df58ce31-d4ec-404e-c6ce-006a0a538b5d"
      },
      "execution_count": null,
      "outputs": [
        {
          "output_type": "stream",
          "name": "stdout",
          "text": [
            "False\n",
            "True\n",
            "False\n",
            "True\n",
            "False\n",
            "True\n"
          ]
        }
      ]
    },
    {
      "cell_type": "code",
      "source": [
        "month = \"Ramadan\"\n",
        "if (month != \"Ramadan\"):\n",
        "  print(\"water bottle not allow\")"
      ],
      "metadata": {
        "id": "Q3LLZEl_bvo9"
      },
      "execution_count": null,
      "outputs": []
    },
    {
      "cell_type": "code",
      "source": [
        "my_age =28\n",
        " #if(my_age > 18);\n",
        "print(\"you are  allow in the park\")"
      ],
      "metadata": {
        "colab": {
          "base_uri": "https://localhost:8080/"
        },
        "id": "nDkjPKmkbvq6",
        "outputId": "ef050864-5e5b-4825-f487-fd4bcd745a62"
      },
      "execution_count": null,
      "outputs": [
        {
          "output_type": "stream",
          "name": "stdout",
          "text": [
            "you are  allow in the park\n"
          ]
        }
      ]
    },
    {
      "cell_type": "code",
      "source": [
        "my_house = \"big\"\n",
        "if (my_house == \"big\"):\n",
        "  print(\"you can buy a house\")"
      ],
      "metadata": {
        "colab": {
          "base_uri": "https://localhost:8080/"
        },
        "id": "vByaZfqyhXOv",
        "outputId": "2616d0f6-51e6-4fa8-ada1-30a2d1cd8fd3"
      },
      "execution_count": null,
      "outputs": [
        {
          "output_type": "stream",
          "name": "stdout",
          "text": [
            "you can buy a house\n"
          ]
        }
      ]
    },
    {
      "cell_type": "code",
      "source": [
        "drink = \"juice\"\n",
        "drink2 = \"colddrink\"\n",
        "if(drink == \"juice\"):\n",
        "  print(\"i can drink juice\")\n",
        "  if(drink != \"juice\"):\n",
        "    print(\"i can't take colddrink\")"
      ],
      "metadata": {
        "colab": {
          "base_uri": "https://localhost:8080/"
        },
        "id": "tRPljrcqi7R3",
        "outputId": "eefd408c-6394-4886-c394-a8db5c96e0b9"
      },
      "execution_count": null,
      "outputs": [
        {
          "output_type": "stream",
          "name": "stdout",
          "text": [
            "i can drink juice\n"
          ]
        }
      ]
    },
    {
      "cell_type": "code",
      "source": [
        "my_birthday = 20/8/1986      #if statement\n",
        "if(my_birthday != 20/8/1986):\n",
        "  print(\"happy birthday\")  #condition true he\n",
        "else:\n",
        "  print(\"sorry\")"
      ],
      "metadata": {
        "colab": {
          "base_uri": "https://localhost:8080/"
        },
        "id": "oVqZ4tcJkeX1",
        "outputId": "0234ed67-25d8-48ce-edaf-1ee6acb018d3"
      },
      "execution_count": null,
      "outputs": [
        {
          "output_type": "stream",
          "name": "stdout",
          "text": [
            "sorry\n"
          ]
        }
      ]
    },
    {
      "cell_type": "code",
      "source": [
        "name = input(\"What is your name?\")\n",
        "print(\"hi\" + name +  \"!\")\n",
        "father_name= input(\"what is your father name?\")\n",
        "print(\"My father name is \"  + father_name)"
      ],
      "metadata": {
        "id": "vnXk7d95p2kd",
        "colab": {
          "base_uri": "https://localhost:8080/"
        },
        "outputId": "53900aa4-a937-47c0-9339-1fb2ad68b223"
      },
      "execution_count": 6,
      "outputs": [
        {
          "output_type": "stream",
          "name": "stdout",
          "text": [
            "What is your name?Ahmed\n",
            "hiAhmed!\n",
            "what is your father name?Waseem\n",
            "My father name is Waseem\n"
          ]
        }
      ]
    },
    {
      "cell_type": "code",
      "source": [
        "from logging import PercentStyle\n",
        "PercentStyle =  90;\n",
        "if(PercentStyle <90):\n",
        "  print(\"welcom to your new session3\")\n",
        "elif(PercentStyle > 90 ):\n",
        "  print(\"Congratulation! On your great success & wellcome in quarter3\")\n",
        "else:\n",
        "  print(\"We hope you will hard work now\")"
      ],
      "metadata": {
        "colab": {
          "base_uri": "https://localhost:8080/"
        },
        "id": "E5hDT9yKUWHK",
        "outputId": "3202ee1c-355f-43c9-f541-d3b4900c5c8d"
      },
      "execution_count": 1,
      "outputs": [
        {
          "output_type": "stream",
          "name": "stdout",
          "text": [
            "We hope you will hard work now\n"
          ]
        }
      ]
    },
    {
      "cell_type": "code",
      "source": [
        "Is_raining = True\n",
        "is_sunny = False\n",
        "if(Is_raining):\n",
        "  print(\"we can't go for shopping\")\n",
        "elif(is_sunny):\n",
        "  print(\"we would go for shopping in evening\")\n",
        "else:\n",
        "  print(\"we will go tomorrow\")"
      ],
      "metadata": {
        "colab": {
          "base_uri": "https://localhost:8080/"
        },
        "id": "Kqk9PIOzUdBy",
        "outputId": "d28b9629-0633-4897-be81-5a6699e96a57"
      },
      "execution_count": 2,
      "outputs": [
        {
          "output_type": "stream",
          "name": "stdout",
          "text": [
            "we can't go for shopping\n"
          ]
        }
      ]
    }
  ]
}